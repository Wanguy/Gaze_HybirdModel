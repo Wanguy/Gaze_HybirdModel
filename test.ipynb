{
 "cells": [
  {
   "cell_type": "code",
   "execution_count": 43,
   "metadata": {},
   "outputs": [
    {
     "name": "stdout",
     "output_type": "stream",
     "text": [
      "torch.Size([4, 32, 7, 7])\n",
      "tensor([ 0.6539, -0.0660], grad_fn=<AddBackward0>)\n"
     ]
    }
   ],
   "source": [
    "import torch\n",
    "import torch.nn as nn\n",
    "import resnet\n",
    "import model\n",
    "\n",
    "maps = 32\n",
    "dim_feature = 7 * 7\n",
    "basenet = resnet.resnet18(True, maps=maps)\n",
    "# lstm = nn.LSTM(dim_feature, dim_feature, 2, bidirectional=True, batch_first=True)\n",
    "lstm = nn.LSTM(maps * dim_feature, maps * dim_feature, 3, bidirectional=False, batch_first=True)\n",
    "linear_after_lstm = nn.Linear(maps * dim_feature, maps * dim_feature)\n",
    "\n",
    "input = torch.randn(4,3,224,224)\n",
    "feature = basenet(input)\n",
    "print(feature.size())\n",
    "\n",
    "net = model.Model()\n",
    "gaze = net(input)\n",
    "print(gaze)\n"
   ]
  },
  {
   "cell_type": "code",
   "execution_count": 35,
   "metadata": {},
   "outputs": [
    {
     "name": "stdout",
     "output_type": "stream",
     "text": [
      "4\n",
      "torch.Size([4, 1568])\n"
     ]
    }
   ],
   "source": [
    "batch_size = feature.size(0)\n",
    "feature = feature.flatten(1)\n",
    "\n",
    "feature = linear_after_lstm(feature)\n",
    "\n",
    "print(batch_size)\n",
    "print(feature.size())"
   ]
  },
  {
   "cell_type": "code",
   "execution_count": 36,
   "metadata": {},
   "outputs": [
    {
     "name": "stdout",
     "output_type": "stream",
     "text": [
      "2\n",
      "(tensor([[ 0.0955,  0.1166,  0.0040,  ..., -0.1269, -0.0136,  0.0671],\n",
      "        [-0.0006,  0.0019,  0.0401,  ...,  0.0326,  0.0098, -0.0415],\n",
      "        [ 0.0125, -0.0064, -0.0055,  ..., -0.0109, -0.0066,  0.0035]],\n",
      "       grad_fn=<SqueezeBackward1>), tensor([[ 0.1589,  0.2020,  0.0085,  ..., -0.3171, -0.0346,  0.1227],\n",
      "        [-0.0013,  0.0036,  0.0809,  ...,  0.0665,  0.0203, -0.0848],\n",
      "        [ 0.0251, -0.0127, -0.0112,  ..., -0.0218, -0.0129,  0.0071]],\n",
      "       grad_fn=<SqueezeBackward1>))\n",
      "torch.Size([4, 1568])\n",
      "tensor([ 0.0125, -0.0064, -0.0055,  ..., -0.0109, -0.0066,  0.0035],\n",
      "       grad_fn=<SliceBackward0>)\n"
     ]
    }
   ],
   "source": [
    "lstm_feature, _ = lstm(feature)\n",
    "print(len(_))\n",
    "print(_)\n",
    "print(lstm_feature.size())\n",
    "\n",
    "print(lstm_feature[-1, :])\n",
    "# lstm_feature = lstm_feature[-1, :]"
   ]
  },
  {
   "cell_type": "code",
   "execution_count": 37,
   "metadata": {},
   "outputs": [
    {
     "name": "stdout",
     "output_type": "stream",
     "text": [
      "torch.Size([4, 1568])\n",
      "torch.Size([4, 4])\n",
      "tensor([[ 0.0033, -0.0007,  0.0032,  ...,  0.0019, -0.0002,  0.0010],\n",
      "        [ 0.0051, -0.0013,  0.0043,  ...,  0.0022,  0.0016, -0.0002],\n",
      "        [ 0.0042, -0.0016,  0.0045,  ...,  0.0015,  0.0013, -0.0003],\n",
      "        [ 0.0042, -0.0033,  0.0038,  ...,  0.0019,  0.0016, -0.0005]],\n",
      "       grad_fn=<SqueezeBackward1>)\n",
      "tensor([[0.2431, 0.1736, 0.2431, 0.2431],\n",
      "        [0.2778, 0.2778, 0.2778, 0.2431],\n",
      "        [0.2083, 0.2431, 0.2778, 0.2431],\n",
      "        [0.2431, 0.2778, 0.2083, 0.2431]], grad_fn=<SqueezeBackward1>)\n",
      "tensor([0.2431, 0.1736, 0.2431, 0.2431], grad_fn=<SelectBackward0>)\n"
     ]
    }
   ],
   "source": [
    "d_model = maps * dim_feature\n",
    "nhead = 8\n",
    "dropout = 0.1\n",
    "self_attn = nn.MultiheadAttention(d_model, nhead, dropout=dropout)\n",
    "\n",
    "q=k=lstm_feature\n",
    "src2, weight = self_attn(q,k,lstm_feature)\n",
    "print(src2.size())\n",
    "print(weight.size())\n",
    "print(src2)\n",
    "print(weight)\n",
    "print(weight[0])\n"
   ]
  },
  {
   "cell_type": "code",
   "execution_count": 38,
   "metadata": {},
   "outputs": [
    {
     "name": "stdout",
     "output_type": "stream",
     "text": [
      "torch.Size([1, 3, 64])\n",
      "tensor([[[ 0.2444,  0.2796,  0.1718,  0.6965,  0.1327,  0.3503, -0.8870,\n",
      "          -1.5509, -0.5613, -1.5994, -0.3639,  0.7586, -1.0621, -0.4890,\n",
      "           0.1990, -0.1196,  0.8081,  0.9146,  0.7055,  1.4039,  0.6116,\n",
      "           0.4986, -0.2072, -0.4875,  0.5237,  0.7952, -1.7667,  0.1355,\n",
      "           1.6989,  0.0913, -0.3792, -0.8600,  0.2444,  0.2796,  0.1718,\n",
      "           0.6965,  0.1327,  0.3503, -0.8870, -1.5509, -0.5613, -1.5994,\n",
      "          -0.3639,  0.7586, -1.0621, -0.4890,  0.1990, -0.1196,  0.8081,\n",
      "           0.9146,  0.7055,  1.4039,  0.6116,  0.4986, -0.2072, -0.4875,\n",
      "           0.5237,  0.7952, -1.7667,  0.1355,  1.6989,  0.0913, -0.3792,\n",
      "          -0.8600],\n",
      "         [ 0.2444,  0.2796,  0.1718,  0.6965,  0.1327,  0.3503, -0.8870,\n",
      "          -1.5509, -0.5613, -1.5994, -0.3639,  0.7586, -1.0621, -0.4890,\n",
      "           0.1990, -0.1196,  0.8081,  0.9146,  0.7055,  1.4039,  0.6116,\n",
      "           0.4986, -0.2072, -0.4875,  0.5237,  0.7952, -1.7667,  0.1355,\n",
      "           1.6989,  0.0913, -0.3792, -0.8600,  0.2444,  0.2796,  0.1718,\n",
      "           0.6965,  0.1327,  0.3503, -0.8870, -1.5509, -0.5613, -1.5994,\n",
      "          -0.3639,  0.7586, -1.0621, -0.4890,  0.1990, -0.1196,  0.8081,\n",
      "           0.9146,  0.7055,  1.4039,  0.6116,  0.4986, -0.2072, -0.4875,\n",
      "           0.5237,  0.7952, -1.7667,  0.1355,  1.6989,  0.0913, -0.3792,\n",
      "          -0.8600],\n",
      "         [ 0.2444,  0.2796,  0.1718,  0.6965,  0.1327,  0.3503, -0.8870,\n",
      "          -1.5509, -0.5613, -1.5994, -0.3639,  0.7586, -1.0621, -0.4890,\n",
      "           0.1990, -0.1196,  0.8081,  0.9146,  0.7055,  1.4039,  0.6116,\n",
      "           0.4986, -0.2072, -0.4875,  0.5237,  0.7952, -1.7667,  0.1355,\n",
      "           1.6989,  0.0913, -0.3792, -0.8600,  0.2444,  0.2796,  0.1718,\n",
      "           0.6965,  0.1327,  0.3503, -0.8870, -1.5509, -0.5613, -1.5994,\n",
      "          -0.3639,  0.7586, -1.0621, -0.4890,  0.1990, -0.1196,  0.8081,\n",
      "           0.9146,  0.7055,  1.4039,  0.6116,  0.4986, -0.2072, -0.4875,\n",
      "           0.5237,  0.7952, -1.7667,  0.1355,  1.6989,  0.0913, -0.3792,\n",
      "          -0.8600]]], grad_fn=<RepeatBackward0>)\n"
     ]
    }
   ],
   "source": [
    "cls_token = nn.Parameter(torch.randn(1, 1, 32))\n",
    "cls = cls_token.repeat((1, 3, 2))\n",
    "print(cls.size())\n",
    "print(cls)\n",
    "\n",
    "\n",
    "\n",
    "# tr_feature = feature.permute(2, 0, 1)\n",
    "\n",
    "# print(tr_feature.size())"
   ]
  },
  {
   "cell_type": "code",
   "execution_count": 39,
   "metadata": {},
   "outputs": [
    {
     "name": "stdout",
     "output_type": "stream",
     "text": [
      "Parameter containing:\n",
      "tensor([[-0.3730,  1.4797,  0.6200],\n",
      "        [ 0.2864,  1.4627, -1.5407]], requires_grad=True)\n",
      "tensor([[-0.3730,  1.4797,  0.6200],\n",
      "        [ 0.2864,  1.4627, -1.5407],\n",
      "        [-0.3730,  1.4797,  0.6200],\n",
      "        [ 0.2864,  1.4627, -1.5407],\n",
      "        [-0.3730,  1.4797,  0.6200],\n",
      "        [ 0.2864,  1.4627, -1.5407]], grad_fn=<CatBackward0>)\n",
      "tensor([[-0.3730,  1.4797,  0.6200, -0.3730,  1.4797,  0.6200, -0.3730,  1.4797,\n",
      "          0.6200],\n",
      "        [ 0.2864,  1.4627, -1.5407,  0.2864,  1.4627, -1.5407,  0.2864,  1.4627,\n",
      "         -1.5407]], grad_fn=<CatBackward0>)\n"
     ]
    }
   ],
   "source": [
    "x = nn.Parameter(torch.randn(2,3))\n",
    "print(x)\n",
    "print(torch.cat((x,x,x),0))\n",
    "print(torch.cat((x,x,x),1))"
   ]
  },
  {
   "cell_type": "code",
   "execution_count": 40,
   "metadata": {},
   "outputs": [],
   "source": [
    "encoder_layer = model.TransformerEncoderLayer(maps*4, nhead, 512, dropout)\n",
    "\n",
    "encoder_norm = nn.LayerNorm(maps*4)\n",
    "# num_encoder_layer: deeps of layers\n",
    "\n",
    "encoder = model.TransformerEncoder(encoder_layer, 6, encoder_norm)"
   ]
  },
  {
   "cell_type": "code",
   "execution_count": 41,
   "metadata": {},
   "outputs": [
    {
     "name": "stdout",
     "output_type": "stream",
     "text": [
      "=====================>> (Begin) Training params << =======================\n",
      "{\n",
      "    \"params\": {\n",
      "        \"batch_size\": 4,\n",
      "        \"epoch\": 40,\n",
      "        \"lr\": 0.0005,\n",
      "        \"decay\": 0.5,\n",
      "        \"decay_step\": 3,\n",
      "        \"warmup\": 0\n",
      "    },\n",
      "    \"save\": {\n",
      "        \"metapath\": \"/home/zjx/Gaze/Output/HybirdGaze\",\n",
      "        \"folder\": \"gaze360\",\n",
      "        \"model_name\": \"trans6\",\n",
      "        \"step\": 5\n",
      "    },\n",
      "    \"data\": {\n",
      "        \"image\": \"/home/zjx/Gaze/Datasets/gaze360_processed/Image\",\n",
      "        \"label\": \"/home/zjx/Gaze/Datasets/gaze360_processed/Label/train.label\",\n",
      "        \"header\": true,\n",
      "        \"name\": \"gaze360\",\n",
      "        \"isFolder\": false\n",
      "    },\n",
      "    \"pretrain\": {\n",
      "        \"enable\": false,\n",
      "        \"path\": \"PLACEHOLDER\",\n",
      "        \"device\": \"PLACEHOLDER\"\n",
      "    },\n",
      "    \"device\": 1,\n",
      "    \"ave_loss\": 1000,\n",
      "    \"reader\": \"reader\",\n",
      "    \"person\": null\n",
      "}\n",
      "=====================>> (End) Training params << =======================\n",
      "========================> Read Data <========================\n",
      "-- [Read Data]: Source: /home/zjx/Gaze/Datasets/gaze360_processed/Label/train.label\n",
      "-- [Read Data]: Total num: 84902\n"
     ]
    }
   ],
   "source": [
    "from easydict import EasyDict as edict\n",
    "import yaml\n",
    "import ctools\n",
    "import importlib\n",
    "import os\n",
    "import torch.backends.cudnn as cudnn\n",
    "from torch.utils.tensorboard import SummaryWriter\n",
    "\n",
    "\n",
    "config = \"./config/config_gaze360.yaml\"\n",
    "\n",
    "person = None\n",
    "\n",
    "config = edict(yaml.load(open(config), Loader=yaml.FullLoader))\n",
    "\n",
    "config = config.train\n",
    "\n",
    "config.person = person\n",
    "\n",
    "config.device = 1\n",
    "\n",
    "print(\"=====================>> (Begin) Training params << =======================\")\n",
    "\n",
    "print(ctools.DictDumps(config))\n",
    "\n",
    "print(\"=====================>> (End) Training params << =======================\")\n",
    "\n",
    "dataloader = importlib.import_module(\"reader.\" + config.reader)\n",
    "device = torch.device(config.device)\n",
    "torch.cuda.set_device(device)\n",
    "cudnn.benchmark = True\n",
    "\n",
    "data = config.data\n",
    "save = config.save\n",
    "params = config.params\n",
    "average_loss_num = config.ave_loss\n",
    "\n",
    "writer = SummaryWriter()\n",
    "\n",
    "print(\"========================> Read Data <========================\")\n",
    "if config.person is not None:\n",
    "    if data.isFolder:\n",
    "        data, folder = ctools.readfolder(data, [config.person], reverse=True)\n",
    "\n",
    "    save_name = folder[config.person]\n",
    "\n",
    "    dataset = dataloader.loader(data, params.batch_size, shuffle=True, num_workers=6)\n",
    "\n",
    "    save_path = os.path.join(save.metapath, save.folder, f\"checkpoint/{save_name}\")\n",
    "\n",
    "else:\n",
    "    if data.isFolder:\n",
    "        data, _ = ctools.readfolder(data)\n",
    "\n",
    "    dataset = dataloader.loader(data, params.batch_size, shuffle=True, num_workers=8)\n",
    "\n",
    "    save_path = os.path.join(save.metapath, save.folder, \"checkpoint\")\n",
    "\n",
    "\n",
    "if not os.path.exists(save_path):\n",
    "    os.makedirs(save_path)\n"
   ]
  },
  {
   "cell_type": "code",
   "execution_count": 42,
   "metadata": {},
   "outputs": [
    {
     "name": "stdout",
     "output_type": "stream",
     "text": [
      "torch.Size([4, 3, 224, 224])\n",
      "{'face': tensor([[[[0.2706, 0.2706, 0.2745,  ..., 0.1255, 0.1216, 0.1216],\n",
      "          [0.2706, 0.2706, 0.2745,  ..., 0.1255, 0.1216, 0.1216],\n",
      "          [0.2863, 0.2863, 0.2784,  ..., 0.1137, 0.1098, 0.1098],\n",
      "          ...,\n",
      "          [0.1412, 0.1412, 0.1490,  ..., 0.2392, 0.2471, 0.2510],\n",
      "          [0.1373, 0.1412, 0.1490,  ..., 0.2353, 0.2471, 0.2549],\n",
      "          [0.1333, 0.1373, 0.1490,  ..., 0.2353, 0.2471, 0.2549]],\n",
      "\n",
      "         [[0.3333, 0.3333, 0.3294,  ..., 0.1412, 0.1333, 0.1333],\n",
      "          [0.3333, 0.3333, 0.3294,  ..., 0.1412, 0.1333, 0.1333],\n",
      "          [0.3412, 0.3412, 0.3333,  ..., 0.1294, 0.1216, 0.1216],\n",
      "          ...,\n",
      "          [0.1333, 0.1333, 0.1333,  ..., 0.2824, 0.2902, 0.2941],\n",
      "          [0.1294, 0.1333, 0.1333,  ..., 0.2784, 0.2902, 0.2980],\n",
      "          [0.1255, 0.1294, 0.1333,  ..., 0.2784, 0.2902, 0.2980]],\n",
      "\n",
      "         [[0.3804, 0.3804, 0.3765,  ..., 0.1608, 0.1529, 0.1529],\n",
      "          [0.3804, 0.3804, 0.3765,  ..., 0.1608, 0.1529, 0.1529],\n",
      "          [0.3882, 0.3882, 0.3804,  ..., 0.1490, 0.1412, 0.1412],\n",
      "          ...,\n",
      "          [0.1333, 0.1333, 0.1294,  ..., 0.3137, 0.3216, 0.3255],\n",
      "          [0.1255, 0.1294, 0.1294,  ..., 0.3098, 0.3216, 0.3294],\n",
      "          [0.1216, 0.1255, 0.1294,  ..., 0.3098, 0.3216, 0.3294]]],\n",
      "\n",
      "\n",
      "        [[[0.2510, 0.2549, 0.2471,  ..., 0.2549, 0.2549, 0.2549],\n",
      "          [0.2549, 0.2588, 0.2510,  ..., 0.2549, 0.2549, 0.2549],\n",
      "          [0.2431, 0.2471, 0.2471,  ..., 0.2549, 0.2549, 0.2549],\n",
      "          ...,\n",
      "          [0.2392, 0.2392, 0.2392,  ..., 0.1843, 0.1843, 0.1843],\n",
      "          [0.2353, 0.2353, 0.2353,  ..., 0.1922, 0.1882, 0.1882],\n",
      "          [0.2353, 0.2353, 0.2353,  ..., 0.1922, 0.1882, 0.1882]],\n",
      "\n",
      "         [[0.3608, 0.3647, 0.3686,  ..., 0.2000, 0.2000, 0.2000],\n",
      "          [0.3647, 0.3686, 0.3725,  ..., 0.2000, 0.2000, 0.2000],\n",
      "          [0.3608, 0.3647, 0.3686,  ..., 0.2000, 0.2000, 0.2000],\n",
      "          ...,\n",
      "          [0.2667, 0.2667, 0.2667,  ..., 0.2118, 0.2118, 0.2118],\n",
      "          [0.2627, 0.2627, 0.2627,  ..., 0.2118, 0.2078, 0.2078],\n",
      "          [0.2627, 0.2627, 0.2627,  ..., 0.2118, 0.2078, 0.2078]],\n",
      "\n",
      "         [[0.4941, 0.4980, 0.4980,  ..., 0.1255, 0.1294, 0.1294],\n",
      "          [0.4980, 0.5020, 0.5020,  ..., 0.1255, 0.1294, 0.1294],\n",
      "          [0.4980, 0.5020, 0.4980,  ..., 0.1294, 0.1294, 0.1294],\n",
      "          ...,\n",
      "          [0.3020, 0.3020, 0.3020,  ..., 0.2902, 0.2902, 0.2902],\n",
      "          [0.2980, 0.2980, 0.2980,  ..., 0.2941, 0.2902, 0.2902],\n",
      "          [0.2980, 0.2980, 0.2980,  ..., 0.2941, 0.2902, 0.2902]]],\n",
      "\n",
      "\n",
      "        [[[0.0510, 0.0510, 0.0510,  ..., 0.0314, 0.0314, 0.0314],\n",
      "          [0.0510, 0.0510, 0.0510,  ..., 0.0314, 0.0314, 0.0314],\n",
      "          [0.0510, 0.0510, 0.0549,  ..., 0.0314, 0.0314, 0.0314],\n",
      "          ...,\n",
      "          [0.0667, 0.0667, 0.0667,  ..., 0.0902, 0.0902, 0.0902],\n",
      "          [0.0667, 0.0667, 0.0667,  ..., 0.0902, 0.0941, 0.0941],\n",
      "          [0.0667, 0.0667, 0.0667,  ..., 0.0863, 0.0902, 0.0902]],\n",
      "\n",
      "         [[0.0745, 0.0745, 0.0745,  ..., 0.0431, 0.0431, 0.0431],\n",
      "          [0.0745, 0.0745, 0.0745,  ..., 0.0431, 0.0431, 0.0431],\n",
      "          [0.0745, 0.0745, 0.0784,  ..., 0.0431, 0.0431, 0.0431],\n",
      "          ...,\n",
      "          [0.0588, 0.0588, 0.0588,  ..., 0.0706, 0.0706, 0.0706],\n",
      "          [0.0588, 0.0588, 0.0588,  ..., 0.0706, 0.0745, 0.0745],\n",
      "          [0.0588, 0.0588, 0.0588,  ..., 0.0667, 0.0706, 0.0706]],\n",
      "\n",
      "         [[0.0706, 0.0706, 0.0706,  ..., 0.0588, 0.0588, 0.0588],\n",
      "          [0.0706, 0.0706, 0.0706,  ..., 0.0588, 0.0588, 0.0588],\n",
      "          [0.0706, 0.0706, 0.0745,  ..., 0.0588, 0.0588, 0.0588],\n",
      "          ...,\n",
      "          [0.0824, 0.0824, 0.0824,  ..., 0.0745, 0.0745, 0.0745],\n",
      "          [0.0824, 0.0824, 0.0824,  ..., 0.0745, 0.0824, 0.0824],\n",
      "          [0.0824, 0.0824, 0.0824,  ..., 0.0706, 0.0784, 0.0784]]],\n",
      "\n",
      "\n",
      "        [[[0.0667, 0.0667, 0.0667,  ..., 0.1176, 0.1176, 0.1176],\n",
      "          [0.0667, 0.0667, 0.0667,  ..., 0.1176, 0.1176, 0.1176],\n",
      "          [0.0667, 0.0667, 0.0667,  ..., 0.1176, 0.1176, 0.1176],\n",
      "          ...,\n",
      "          [0.5686, 0.5686, 0.5686,  ..., 0.2667, 0.2667, 0.2667],\n",
      "          [0.5686, 0.5686, 0.5686,  ..., 0.2667, 0.2667, 0.2667],\n",
      "          [0.5686, 0.5686, 0.5686,  ..., 0.2667, 0.2667, 0.2667]],\n",
      "\n",
      "         [[0.0627, 0.0627, 0.0627,  ..., 0.1137, 0.1137, 0.1137],\n",
      "          [0.0627, 0.0627, 0.0627,  ..., 0.1137, 0.1137, 0.1137],\n",
      "          [0.0627, 0.0627, 0.0627,  ..., 0.1137, 0.1137, 0.1137],\n",
      "          ...,\n",
      "          [0.5333, 0.5333, 0.5333,  ..., 0.2784, 0.2784, 0.2784],\n",
      "          [0.5333, 0.5333, 0.5333,  ..., 0.2784, 0.2784, 0.2784],\n",
      "          [0.5333, 0.5333, 0.5333,  ..., 0.2784, 0.2784, 0.2784]],\n",
      "\n",
      "         [[0.0706, 0.0706, 0.0706,  ..., 0.1216, 0.1216, 0.1216],\n",
      "          [0.0706, 0.0706, 0.0706,  ..., 0.1216, 0.1216, 0.1216],\n",
      "          [0.0706, 0.0706, 0.0706,  ..., 0.1216, 0.1216, 0.1216],\n",
      "          ...,\n",
      "          [0.4941, 0.4941, 0.4941,  ..., 0.2980, 0.2980, 0.2980],\n",
      "          [0.4941, 0.4941, 0.4941,  ..., 0.2980, 0.2980, 0.2980],\n",
      "          [0.4941, 0.4941, 0.4941,  ..., 0.2980, 0.2980, 0.2980]]]]), 'name': ['rec_012/head/000043/002206.jpg', 'rec_058/head/000001/000042.jpg', 'rec_040/head/000512/000126.jpg', 'rec_015/head/000170/000496.jpg']}\n",
      "tensor([[ 1.0811,  0.0934],\n",
      "        [ 0.5428, -0.0891],\n",
      "        [-0.0254, -0.2460],\n",
      "        [ 0.3492,  0.0140]])\n"
     ]
    }
   ],
   "source": [
    "for i, (data,label) in enumerate(dataset):\n",
    "    print(data.face.size())\n",
    "    print(data)\n",
    "    print(label)\n",
    "    break"
   ]
  },
  {
   "cell_type": "code",
   "execution_count": 49,
   "metadata": {},
   "outputs": [
    {
     "name": "stdout",
     "output_type": "stream",
     "text": [
      "torch.Size([2])\n",
      "torch.Size([2])\n"
     ]
    }
   ],
   "source": [
    "gaze = torch.randn(2)\n",
    "print(gaze.size())\n",
    "gaze.reshape(2,1)\n",
    "print(gaze.size())"
   ]
  },
  {
   "cell_type": "code",
   "execution_count": null,
   "metadata": {},
   "outputs": [],
   "source": []
  }
 ],
 "metadata": {
  "kernelspec": {
   "display_name": "Python 3.10.4 ('gaze')",
   "language": "python",
   "name": "python3"
  },
  "language_info": {
   "codemirror_mode": {
    "name": "ipython",
    "version": 3
   },
   "file_extension": ".py",
   "mimetype": "text/x-python",
   "name": "python",
   "nbconvert_exporter": "python",
   "pygments_lexer": "ipython3",
   "version": "3.10.4"
  },
  "orig_nbformat": 4,
  "vscode": {
   "interpreter": {
    "hash": "b523a8312e33d8f35c5fa90403338ea869460b7976496c77286027616cffa2c8"
   }
  }
 },
 "nbformat": 4,
 "nbformat_minor": 2
}
